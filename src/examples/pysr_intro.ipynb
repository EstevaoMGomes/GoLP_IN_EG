{
 "cells": [
  {
   "cell_type": "code",
   "execution_count": null,
   "metadata": {
    "colab": {
     "base_uri": "https://localhost:8080/"
    },
    "id": "6MWmJ0l2XMJp",
    "outputId": "267331ba-83dd-417c-bd93-8af63286e622"
   },
   "outputs": [],
   "source": [
    "import pysr\n",
    "\n",
    "pysr.install(precompile=False)"
   ]
  },
  {
   "cell_type": "code",
   "execution_count": null,
   "metadata": {
    "id": "ZdxZp7flXN_l"
   },
   "outputs": [],
   "source": [
    "import sympy\n",
    "import numpy as np\n",
    "from matplotlib import pyplot as plt\n",
    "from pysr import PySRRegressor\n",
    "from sklearn.model_selection import train_test_split"
   ]
  },
  {
   "cell_type": "markdown",
   "metadata": {
    "id": "dm12WcQFXO5l"
   },
   "source": [
    "# Introduction\n",
    "To start the project first I am going to see to what extent PySR is capable by varying:\n",
    "- seed\n",
    "- error\n",
    "- number of points\n"
   ]
  },
  {
   "cell_type": "markdown",
   "metadata": {
    "id": "PlWN5kGvY61T"
   },
   "source": [
    "Let´s start with the function\n",
    "$$ f(x)=113 \\cdot e^{-2(x-1)^2 }$$\n",
    "in which each point has a poisson distribution with average value $f(x)$\n"
   ]
  },
  {
   "cell_type": "code",
   "execution_count": null,
   "metadata": {
    "id": "59AQEOpaoFn8"
   },
   "outputs": [],
   "source": [
    "np.random.seed(0)\n",
    "n = 3000\n",
    "X = 6 * np.random.rand(n,2)-3\n",
    "H = 113 * np.exp(-2 * (X[:, 0]-1) * (X[:, 0]-1))\n",
    "y = np.random.poisson(H, n)"
   ]
  },
  {
   "cell_type": "markdown",
   "metadata": {
    "id": "OX_q47p-lpl8"
   },
   "source": [
    "Let's vizualize our dataset:"
   ]
  },
  {
   "cell_type": "code",
   "execution_count": null,
   "metadata": {
    "colab": {
     "base_uri": "https://localhost:8080/",
     "height": 466
    },
    "id": "IFL-s3dnqD95",
    "outputId": "c4cf50ad-bf10-4c11-9986-b8662fe17320"
   },
   "outputs": [],
   "source": [
    "plt.scatter(X[:,0], y, alpha=0.2)\n",
    "plt.xlabel(\"$x$\")\n",
    "plt.ylabel(\"$y$\")"
   ]
  },
  {
   "cell_type": "markdown",
   "metadata": {
    "id": "ZTvnfygPl4F1"
   },
   "source": [
    "Starting our symbolic regression algorithm..."
   ]
  },
  {
   "cell_type": "code",
   "execution_count": null,
   "metadata": {
    "colab": {
     "base_uri": "https://localhost:8080/",
     "height": 1000
    },
    "id": "q6Lq0VoJv3nY",
    "outputId": "6049b7f8-2434-4153-e793-863274fe2d86",
    "scrolled": false
   },
   "outputs": [],
   "source": [
    "model = PySRRegressor(\n",
    "    niterations=5,\n",
    "    populations=100,\n",
    "    binary_operators=[\"plus\", \"mult\"],\n",
    "    unary_operators=[\"exp\"],\n",
    ")\n",
    "model.fit(X, y)"
   ]
  },
  {
   "cell_type": "code",
   "execution_count": null,
   "metadata": {
    "colab": {
     "base_uri": "https://localhost:8080/",
     "height": 43
    },
    "id": "bEwv92wB9HaD",
    "outputId": "577c6326-746f-4bc2-ab1e-6696ee7fd2f4"
   },
   "outputs": [],
   "source": [
    "model.sympy()"
   ]
  },
  {
   "cell_type": "markdown",
   "metadata": {
    "id": "NyUPD1nHl9QC"
   },
   "source": [
    "We can see that the equation of our regression looks nothing like the one we started with.\n",
    "\n",
    "Two ideas follow:\n",
    "- Increasing the complexity of the exponential operator;\n",
    "- Increasing the number of points of our dataset;\n",
    "\n",
    "This is a problem that has nothing to do with the seed nor with the error, as PySR is perfecly cpable of handling with a Poisson distribution.\n",
    "\n",
    "Still, we can see that the curve adjusts somewhat well to our dataset. The only thing is that the expression is much uglier than the one we wanted to find."
   ]
  },
  {
   "cell_type": "code",
   "execution_count": null,
   "metadata": {
    "colab": {
     "base_uri": "https://localhost:8080/",
     "height": 447
    },
    "id": "NRU3mcvVzTTM",
    "outputId": "3c2bb627-0554-4baf-b86b-ea5e61e94955"
   },
   "outputs": [],
   "source": [
    "best_idx = model.equations_.query(\n",
    "    f\"loss < {2 * model.equations_.loss.min()}\"\n",
    ").score.idxmax()\n",
    "model.sympy(best_idx)\n",
    "plt.scatter(X[:, 0], y, alpha=0.1)\n",
    "y_prediction = model.predict(X, index=best_idx)\n",
    "plt.scatter(X[:, 0], y_prediction)"
   ]
  },
  {
   "cell_type": "markdown",
   "metadata": {
    "id": "CJNtMdZFnJyB"
   },
   "source": [
    "So let´s do the same thing, with another seed, but now with double the points in the dataset:"
   ]
  },
  {
   "cell_type": "code",
   "execution_count": null,
   "metadata": {
    "colab": {
     "base_uri": "https://localhost:8080/",
     "height": 1000
    },
    "id": "YqzL-ju6nQKw",
    "outputId": "e03de1a8-e8e8-40fc-abc4-69c82bb2ef87"
   },
   "outputs": [],
   "source": [
    "np.random.seed(1)\n",
    "n = 6000\n",
    "X = 6 * np.random.rand(n,2)-3\n",
    "H = 113 * np.exp(-2 * X[:, 0] * X[:, 0])\n",
    "y = np.random.poisson(H, n)\n",
    "\n",
    "model = PySRRegressor(\n",
    "    niterations=5,\n",
    "    populations=100,\n",
    "    binary_operators=[\"plus\", \"mult\"],\n",
    "    unary_operators=[\"exp\"],\n",
    ")\n",
    "model.fit(X, y)"
   ]
  },
  {
   "cell_type": "code",
   "execution_count": null,
   "metadata": {
    "colab": {
     "base_uri": "https://localhost:8080/",
     "height": 41
    },
    "id": "zy-kr8GyqQP1",
    "outputId": "d6c0f01e-f614-4ae1-a1ff-7c53998a51d1"
   },
   "outputs": [],
   "source": [
    "model.sympy()"
   ]
  },
  {
   "cell_type": "code",
   "execution_count": null,
   "metadata": {
    "colab": {
     "base_uri": "https://localhost:8080/",
     "height": 447
    },
    "id": "Y3wKTSKGqC6c",
    "outputId": "4531ce22-7b9d-4846-f082-994267e655ae"
   },
   "outputs": [],
   "source": [
    "best_idx = model.equations_.query(\n",
    "    f\"loss < {2 * model.equations_.loss.min()}\"\n",
    ").score.idxmax()\n",
    "model.sympy(best_idx)\n",
    "plt.scatter(X[:, 0], y, alpha=0.1)\n",
    "y_prediction = model.predict(X, index=best_idx)\n",
    "plt.scatter(X[:, 0], y_prediction)"
   ]
  },
  {
   "cell_type": "markdown",
   "metadata": {
    "id": "VdlqGEaoqfq2"
   },
   "source": [
    "The problem appears to be the same. Now let´s test with the same dataset but increasing the exponential's complexity."
   ]
  },
  {
   "cell_type": "code",
   "execution_count": null,
   "metadata": {
    "id": "jdLw-0eGq4_F"
   },
   "outputs": [],
   "source": [
    "model = PySRRegressor(\n",
    "    niterations=5,\n",
    "    populations=100,\n",
    "    binary_operators=[\"plus\", \"mult\"],\n",
    "    unary_operators=[\"exp\"],\n",
    "    complexity_of_operators={\"exp\": 2},\n",
    ")\n",
    "model.fit(X, y)"
   ]
  },
  {
   "cell_type": "code",
   "execution_count": null,
   "metadata": {
    "id": "XIYTMBifrf6K"
   },
   "outputs": [],
   "source": [
    "model.sympy()"
   ]
  },
  {
   "cell_type": "code",
   "execution_count": null,
   "metadata": {
    "id": "wONljyL9roXm"
   },
   "outputs": [],
   "source": [
    "best_idx = model.equations_.query(\n",
    "    f\"loss < {2 * model.equations_.loss.min()}\"\n",
    ").score.idxmax()\n",
    "model.sympy(best_idx)\n",
    "plt.scatter(X[:, 0], y, alpha=0.1)\n",
    "y_prediction = model.predict(X, index=best_idx)\n",
    "plt.scatter(X[:, 0], y_prediction)"
   ]
  }
 ],
 "metadata": {
  "colab": {
   "provenance": []
  },
  "kernelspec": {
   "display_name": "Python 3 (ipykernel)",
   "language": "python",
   "name": "python3"
  },
  "language_info": {
   "codemirror_mode": {
    "name": "ipython",
    "version": 3
   },
   "file_extension": ".py",
   "mimetype": "text/x-python",
   "name": "python",
   "nbconvert_exporter": "python",
   "pygments_lexer": "ipython3",
   "version": "3.10.12"
  }
 },
 "nbformat": 4,
 "nbformat_minor": 1
}
